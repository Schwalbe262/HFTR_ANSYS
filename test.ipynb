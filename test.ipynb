{
 "metadata": {
  "language_info": {
   "codemirror_mode": {
    "name": "ipython",
    "version": 3
   },
   "file_extension": ".py",
   "mimetype": "text/x-python",
   "name": "python",
   "nbconvert_exporter": "python",
   "pygments_lexer": "ipython3",
   "version": "3.9.6"
  },
  "orig_nbformat": 4,
  "kernelspec": {
   "name": "python3",
   "display_name": "Python 3.9.6 64-bit (windows store)"
  },
  "interpreter": {
   "hash": "38d51dd8e8d25c2b4859ddf5fde4d8615b38902fd48d30a19bf46ddb81d406a6"
  }
 },
 "nbformat": 4,
 "nbformat_minor": 2,
 "cells": [
  {
   "cell_type": "code",
   "execution_count": 31,
   "metadata": {},
   "outputs": [],
   "source": [
    "N = 10"
   ]
  },
  {
   "cell_type": "code",
   "execution_count": 65,
   "metadata": {},
   "outputs": [],
   "source": [
    "import random\n",
    "import math\n",
    "\n",
    "d1 = 6.54\n",
    "move_tx = d1 + 3\n",
    "N1 = random.randrange(1,10)\n",
    "N2 = random.randrange(1,10)\n",
    "N = max(N1,N2)\n",
    "l1 = random.randrange(5,80)\n",
    "l2 = random.randrange(50,100)\n",
    "h1 = random.randrange(math.ceil((N-1)*move_tx+2*d1),150)\n",
    "w1 =  random.randrange(30,200)"
   ]
  },
  {
   "cell_type": "code",
   "execution_count": 35,
   "metadata": {},
   "outputs": [],
   "source": [
    "a = (N-1)*move_tx+2*d1"
   ]
  },
  {
   "cell_type": "code",
   "execution_count": 72,
   "metadata": {},
   "outputs": [
    {
     "output_type": "execute_result",
     "data": {
      "text/plain": [
       "'asdfasdf'"
      ]
     },
     "metadata": {},
     "execution_count": 72
    }
   ],
   "source": [
    "a = 1\n",
    "b = f'asdfasdf{a}'\n",
    "\n",
    "b[:-1]"
   ]
  },
  {
   "cell_type": "code",
   "execution_count": 82,
   "metadata": {},
   "outputs": [
    {
     "output_type": "stream",
     "name": "stdout",
     "text": [
      "oEditor.Paste()\noEditor.Move(\n[\n    \"NAME:Selections\",\n    \"Selections:=\"\t\t, \"Tx\"Tx4,\"\n    \"NewPartsModelFlag:=\"\t, \"Model\"\n],\n\n"
     ]
    }
   ],
   "source": [
    "i=3\n",
    "\n",
    "Tx_loop = \"\"\n",
    "Tx_loop = Tx_loop + \"oEditor.Paste()\\n\"\n",
    "Tx_loop = Tx_loop + \"oEditor.Move(\\n\"\n",
    "Tx_loop = Tx_loop + \"[\\n\"\n",
    "Tx_loop = Tx_loop + f'    \"NAME:Selections\",\\n'\n",
    "Tx_loop = Tx_loop + f'    \"Selections:=\"\t\t, \"Tx\"Tx{i+1},\"\\n'\n",
    "Tx_loop = Tx_loop + f'    \"NewPartsModelFlag:=\"\t, \"Model\"\\n'\n",
    "Tx_loop = Tx_loop + \"],\\n\"\n",
    "\n",
    "Tx_loop\n",
    "print(Tx_loop)"
   ]
  },
  {
   "cell_type": "code",
   "execution_count": 85,
   "metadata": {},
   "outputs": [
    {
     "output_type": "execute_result",
     "data": {
      "text/plain": [
       "'oEditor.Paste()\\noEditor.Move(\\n[\\n    \"NAME:Selections\",\\n    \"Selections:=\"\\t\\t, \"Tx2,\"\\n    \"NewPartsModelFlag:=\"\\t, \"Model\"\\n],\\n[\\n    \"NAME:TranslateParameters\",\\n    \"TranslateVectorX:=\"\\t, \"0\",\\n    \"TranslateVectorY:=\"\\t, \"0\",    \"TranslateVectorZ:=\"\\t, -1*move_tx+offset_tx],\\n'"
      ]
     },
     "metadata": {},
     "execution_count": 85
    }
   ],
   "source": [
    "d1 = 6.54\n",
    "move_tx = d1 + 3\n",
    "N1 = random.randrange(1,10)\n",
    "N2 = random.randrange(1,10)\n",
    "N = max(N1,N2)\n",
    "l1 = random.randrange(5,80)\n",
    "l2 = random.randrange(50,100)\n",
    "h1 = random.randrange(math.ceil((N-1)*move_tx+2*d1),150)\n",
    "w1 =  random.randrange(30,200)\n",
    "\n",
    "str_tx = \"Tx_in,Tx_out,Tx1,\"\n",
    "Tx_loop = \"\"\n",
    "for i in range(1,N1) :\n",
    "\n",
    "    str_tx = str_tx + f'Tx{i+1}'\n",
    "\n",
    "    Tx_loop = Tx_loop + \"oEditor.Paste()\\n\"\n",
    "    Tx_loop = Tx_loop + \"oEditor.Move(\\n\"\n",
    "    Tx_loop = Tx_loop + \"[\\n\"\n",
    "    Tx_loop = Tx_loop + f'    \"NAME:Selections\",\\n'\n",
    "    Tx_loop = Tx_loop + f'    \"Selections:=\"\t\t, \"Tx{i+1},\"\\n'\n",
    "    Tx_loop = Tx_loop + f'    \"NewPartsModelFlag:=\"\t, \"Model\"\\n'\n",
    "    Tx_loop = Tx_loop + \"],\\n\"\n",
    "    Tx_loop = Tx_loop + \"[\\n\"\n",
    "    Tx_loop = Tx_loop + f'    \"NAME:TranslateParameters\",\\n'\n",
    "    Tx_loop = Tx_loop + f'    \"TranslateVectorX:=\"\t, \"0\",\\n'\n",
    "    Tx_loop = Tx_loop + f'    \"TranslateVectorY:=\"\t, \"0\",'\n",
    "    Tx_loop = Tx_loop + f'    \"TranslateVectorZ:=\"\t, -{i}*move_tx+offset_tx'\n",
    "    Tx_loop = Tx_loop + \"],\\n\"\n",
    "str_tx = str_tx[:-1]\n",
    "\n",
    "Tx_loop"
   ]
  },
  {
   "cell_type": "code",
   "execution_count": 89,
   "metadata": {},
   "outputs": [
    {
     "output_type": "execute_result",
     "data": {
      "text/plain": [
       "'\"Rx2,'"
      ]
     },
     "metadata": {},
     "execution_count": 89
    }
   ],
   "source": [
    "a = f'\"Rx{i+1},'\n",
    "\n",
    "a"
   ]
  },
  {
   "cell_type": "code",
   "execution_count": null,
   "metadata": {},
   "outputs": [],
   "source": []
  }
 ]
}