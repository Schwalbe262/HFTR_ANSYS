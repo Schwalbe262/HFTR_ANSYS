{
 "metadata": {
  "language_info": {
   "codemirror_mode": {
    "name": "ipython",
    "version": 3
   },
   "file_extension": ".py",
   "mimetype": "text/x-python",
   "name": "python",
   "nbconvert_exporter": "python",
   "pygments_lexer": "ipython3",
   "version": "3.9.6"
  },
  "orig_nbformat": 4,
  "kernelspec": {
   "name": "python3",
   "display_name": "Python 3.9.6 64-bit (windows store)"
  },
  "interpreter": {
   "hash": "38d51dd8e8d25c2b4859ddf5fde4d8615b38902fd48d30a19bf46ddb81d406a6"
  }
 },
 "nbformat": 4,
 "nbformat_minor": 2,
 "cells": [
  {
   "cell_type": "code",
   "execution_count": 1,
   "metadata": {},
   "outputs": [
    {
     "output_type": "stream",
     "name": "stdout",
     "text": [
      "Transformation Pipeline and Model Successfully Loaded\nTransformation Pipeline and Model Successfully Loaded\nTransformation Pipeline and Model Successfully Loaded\nTransformation Pipeline and Model Successfully Loaded\nTransformation Pipeline and Model Successfully Loaded\nTransformation Pipeline and Model Successfully Loaded\nTransformation Pipeline and Model Successfully Loaded\nTransformation Pipeline and Model Successfully Loaded\nTransformation Pipeline and Model Successfully Loaded\nTransformation Pipeline and Model Successfully Loaded\n"
     ]
    }
   ],
   "source": [
    "# import ML data\n",
    "import pandas\n",
    "import pycaret\n",
    "\n",
    "from pycaret.regression import load_model\n",
    "\n",
    "ML_model_v1_num1 = load_model(\"ML_model_v1_num1\")\n",
    "ML_model_v1_num2 = load_model(\"ML_model_v1_num2\")\n",
    "ML_model_v1_num3 = load_model(\"ML_model_v1_num3\")\n",
    "ML_model_v1_num4 = load_model(\"ML_model_v1_num4\")\n",
    "ML_model_v1_num5 = load_model(\"ML_model_v1_num5\")\n",
    "ML_model_v2_num1 = load_model(\"ML_model_v2_num1\")\n",
    "ML_model_v2_num2 = load_model(\"ML_model_v2_num2\")\n",
    "ML_model_v2_num3 = load_model(\"ML_model_v2_num3\")\n",
    "ML_model_v2_num4 = load_model(\"ML_model_v2_num4\")\n",
    "ML_model_v2_num5 = load_model(\"ML_model_v2_num5\")"
   ]
  },
  {
   "cell_type": "code",
   "execution_count": 2,
   "metadata": {},
   "outputs": [],
   "source": [
    "filename = \"input_parameter_v1.csv\"\n",
    "\n",
    "csv = pandas.read_csv(filename)\n",
    "csv = csv.dropna(axis=0).reset_index(drop=True)#drop NaN\n",
    "\n",
    "N1 = csv.N1\n",
    "N2 = csv.N2\n",
    "space1 = csv.space1\n",
    "space2 = csv.space2\n",
    "l1 = csv.l1\n",
    "l2 = csv.l2\n",
    "h1 = csv.h1\n",
    "w1 = csv.w1"
   ]
  },
  {
   "cell_type": "code",
   "execution_count": 3,
   "metadata": {},
   "outputs": [],
   "source": [
    "solution_v1 = [[0 for col in range(5)] for row in range(len(l1))]\n",
    "solution_v2 = [[0 for col in range(5)] for row in range(len(l1))]\n",
    "\n",
    "for i in range(0,len(l1)) :\n",
    "\n",
    "    param = [[N1[i],N2[i],space1[i],space2[i],l1[i], l2[i], h1[i], w1[i]]]\n",
    "    param2 = pandas.DataFrame(param,columns=[\"N1\",\"N2\",\"space1\",\"space2\",\"l1\", \"l2\", \"h1\", \"w1\"])\n",
    "\n",
    "    #test = ML_model_v1_num1.predict(param2)\n",
    "    \n",
    "    solution_v1[i][0] = ML_model_v1_num1.predict(param2)[0]\n",
    "    solution_v1[i][1] = ML_model_v1_num2.predict(param2)[0]\n",
    "    solution_v1[i][2] = ML_model_v1_num3.predict(param2)[0]\n",
    "    solution_v1[i][3] = ML_model_v1_num4.predict(param2)[0]\n",
    "    solution_v1[i][4] = ML_model_v1_num5.predict(param2)[0]\n",
    "    solution_v2[i][0] = ML_model_v2_num1.predict(param2)[0]\n",
    "    solution_v2[i][1] = ML_model_v2_num2.predict(param2)[0]\n",
    "    solution_v2[i][2] = ML_model_v2_num3.predict(param2)[0]\n",
    "    solution_v2[i][3] = ML_model_v2_num4.predict(param2)[0]\n",
    "    solution_v2[i][4] = ML_model_v2_num5.predict(param2)[0]\n",
    "\n",
    "\n",
    "pd_solution_v1 = pandas.DataFrame(solution_v1,columns=[\"Lmt\", \"Lmr\", \"Llk\", \"Rt\", \"Rr\"])\n",
    "pd_solution_v2 = pandas.DataFrame(solution_v2,columns=[\"Lmt\", \"Lmr\", \"Llk\", \"Rt\", \"Rr\"])\n",
    "\n",
    "\n",
    "pd_solution_v1.to_csv(\"solution_v1.csv\")\n",
    "pd_solution_v2.to_csv(\"solution_v2.csv\")\n",
    "\n"
   ]
  },
  {
   "cell_type": "code",
   "execution_count": null,
   "metadata": {},
   "outputs": [],
   "source": []
  }
 ]
}