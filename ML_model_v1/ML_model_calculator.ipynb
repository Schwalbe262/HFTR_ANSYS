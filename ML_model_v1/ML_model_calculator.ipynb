{
 "metadata": {
  "language_info": {
   "codemirror_mode": {
    "name": "ipython",
    "version": 3
   },
   "file_extension": ".py",
   "mimetype": "text/x-python",
   "name": "python",
   "nbconvert_exporter": "python",
   "pygments_lexer": "ipython3",
   "version": "3.9.6"
  },
  "orig_nbformat": 4,
  "kernelspec": {
   "name": "python3",
   "display_name": "Python 3.9.6 64-bit (windows store)"
  },
  "interpreter": {
   "hash": "38d51dd8e8d25c2b4859ddf5fde4d8615b38902fd48d30a19bf46ddb81d406a6"
  }
 },
 "nbformat": 4,
 "nbformat_minor": 2,
 "cells": [
  {
   "cell_type": "code",
   "execution_count": 2,
   "metadata": {},
   "outputs": [
    {
     "output_type": "stream",
     "name": "stdout",
     "text": [
      "Transformation Pipeline and Model Successfully Loaded\n",
      "Transformation Pipeline and Model Successfully Loaded\n",
      "Transformation Pipeline and Model Successfully Loaded\n",
      "Transformation Pipeline and Model Successfully Loaded\n",
      "Transformation Pipeline and Model Successfully Loaded\n",
      "Transformation Pipeline and Model Successfully Loaded\n",
      "Transformation Pipeline and Model Successfully Loaded\n",
      "Transformation Pipeline and Model Successfully Loaded\n",
      "Transformation Pipeline and Model Successfully Loaded\n",
      "Transformation Pipeline and Model Successfully Loaded\n"
     ]
    }
   ],
   "source": [
    "# import ML data\n",
    "import pandas\n",
    "import pycaret\n",
    "\n",
    "from pycaret.regression import load_model\n",
    "\n",
    "ML_model_v1_num1 = load_model(\"ML_model_v1_num1\")\n",
    "ML_model_v1_num2 = load_model(\"ML_model_v1_num2\")\n",
    "ML_model_v1_num3 = load_model(\"ML_model_v1_num3\")\n",
    "ML_model_v1_num4 = load_model(\"ML_model_v1_num4\")\n",
    "ML_model_v1_num5 = load_model(\"ML_model_v1_num5\")\n",
    "ML_model_v2_num1 = load_model(\"ML_model_v2_num1\")\n",
    "ML_model_v2_num2 = load_model(\"ML_model_v2_num2\")\n",
    "ML_model_v2_num3 = load_model(\"ML_model_v2_num3\")\n",
    "ML_model_v2_num4 = load_model(\"ML_model_v2_num4\")\n",
    "ML_model_v2_num5 = load_model(\"ML_model_v2_num5\")"
   ]
  },
  {
   "cell_type": "code",
   "execution_count": 9,
   "metadata": {},
   "outputs": [],
   "source": [
    "filename = \"input_parameter_v1.csv\"\n",
    "\n",
    "csv = pandas.read_csv(filename)\n",
    "csv = csv.dropna(axis=0).reset_index(drop=True)#drop NaN"
   ]
  },
  {
   "cell_type": "code",
   "execution_count": 5,
   "metadata": {},
   "outputs": [],
   "source": [
    "# import input parameter data\n",
    "\n",
    "filename = \"input_parameter_v1.csv\"\n",
    "\n",
    "csv = pandas.read_csv(filename)\n",
    "csv = csv.dropna(axis=0).reset_index(drop=True)#drop NaN\n",
    "\n",
    "csv = csv.drop('l1',axis=1)\n",
    "csv = csv.drop('l2',axis=1)\n",
    "csv = csv.drop('h1',axis=1)\n",
    "csv = csv.drop('w1',axis=1)"
   ]
  },
  {
   "cell_type": "code",
   "execution_count": null,
   "metadata": {},
   "outputs": [],
   "source": []
  }
 ]
}