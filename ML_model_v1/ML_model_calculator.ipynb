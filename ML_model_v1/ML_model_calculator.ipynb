{
 "metadata": {
  "language_info": {
   "codemirror_mode": {
    "name": "ipython",
    "version": 3
   },
   "file_extension": ".py",
   "mimetype": "text/x-python",
   "name": "python",
   "nbconvert_exporter": "python",
   "pygments_lexer": "ipython3",
   "version": "3.9.6"
  },
  "orig_nbformat": 4,
  "kernelspec": {
   "name": "python3",
   "display_name": "Python 3.9.6 64-bit (windows store)"
  },
  "interpreter": {
   "hash": "38d51dd8e8d25c2b4859ddf5fde4d8615b38902fd48d30a19bf46ddb81d406a6"
  }
 },
 "nbformat": 4,
 "nbformat_minor": 2,
 "cells": [
  {
   "cell_type": "code",
   "execution_count": 1,
   "metadata": {},
   "outputs": [
    {
     "output_type": "stream",
     "name": "stdout",
     "text": [
      "Transformation Pipeline and Model Successfully Loaded\n",
      "Transformation Pipeline and Model Successfully Loaded\n",
      "Transformation Pipeline and Model Successfully Loaded\n",
      "Transformation Pipeline and Model Successfully Loaded\n",
      "Transformation Pipeline and Model Successfully Loaded\n",
      "Transformation Pipeline and Model Successfully Loaded\n",
      "Transformation Pipeline and Model Successfully Loaded\n",
      "Transformation Pipeline and Model Successfully Loaded\n",
      "Transformation Pipeline and Model Successfully Loaded\n",
      "Transformation Pipeline and Model Successfully Loaded\n"
     ]
    }
   ],
   "source": [
    "# import ML data\n",
    "import pandas\n",
    "import pycaret\n",
    "\n",
    "from pycaret.regression import load_model\n",
    "\n",
    "ML_model_v1_num1 = load_model(\"ML_model_v1_num1\")\n",
    "ML_model_v1_num2 = load_model(\"ML_model_v1_num2\")\n",
    "ML_model_v1_num3 = load_model(\"ML_model_v1_num3\")\n",
    "ML_model_v1_num4 = load_model(\"ML_model_v1_num4\")\n",
    "ML_model_v1_num5 = load_model(\"ML_model_v1_num5\")\n",
    "ML_model_v2_num1 = load_model(\"ML_model_v2_num1\")\n",
    "ML_model_v2_num2 = load_model(\"ML_model_v2_num2\")\n",
    "ML_model_v2_num3 = load_model(\"ML_model_v2_num3\")\n",
    "ML_model_v2_num4 = load_model(\"ML_model_v2_num4\")\n",
    "ML_model_v2_num5 = load_model(\"ML_model_v2_num5\")"
   ]
  },
  {
   "cell_type": "code",
   "execution_count": 3,
   "metadata": {},
   "outputs": [],
   "source": [
    "filename = \"input_parameter_v1.csv\"\n",
    "\n",
    "csv = pandas.read_csv(filename)\n",
    "csv = csv.dropna(axis=0).reset_index(drop=True)#drop NaN\n",
    "\n",
    "l1 = csv.l1\n",
    "l2 = csv.l2\n",
    "h1 = csv.h1\n",
    "w1 = csv.w1"
   ]
  },
  {
   "cell_type": "code",
   "execution_count": null,
   "metadata": {},
   "outputs": [],
   "source": [
    "for i in range(1,len(l1)+1) :\n",
    "\n",
    "    \n",
    "\n"
   ]
  }
 ]
}