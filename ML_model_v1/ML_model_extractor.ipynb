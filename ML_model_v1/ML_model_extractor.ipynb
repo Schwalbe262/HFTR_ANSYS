{
 "metadata": {
  "language_info": {
   "codemirror_mode": {
    "name": "ipython",
    "version": 3
   },
   "file_extension": ".py",
   "mimetype": "text/x-python",
   "name": "python",
   "nbconvert_exporter": "python",
   "pygments_lexer": "ipython3",
   "version": "3.9.6"
  },
  "orig_nbformat": 4,
  "kernelspec": {
   "name": "python3",
   "display_name": "Python 3.9.6 64-bit (windows store)"
  },
  "interpreter": {
   "hash": "38d51dd8e8d25c2b4859ddf5fde4d8615b38902fd48d30a19bf46ddb81d406a6"
  }
 },
 "nbformat": 4,
 "nbformat_minor": 2,
 "cells": [
  {
   "cell_type": "code",
   "execution_count": 1,
   "metadata": {},
   "outputs": [
    {
     "output_type": "display_data",
     "data": {
      "text/plain": "<pandas.io.formats.style.Styler at 0x28643dd5a60>",
      "text/html": "<style type=\"text/css\">\n#T_8a7a8_row10_col0, #T_8a7a8_row10_col1, #T_8a7a8_row10_col2, #T_8a7a8_row10_col3, #T_8a7a8_row10_col4, #T_8a7a8_row10_col5 {\n  background: yellow;\n}\n</style>\n<table id=\"T_8a7a8_\">\n  <thead>\n    <tr>\n      <th class=\"blank level0\" >&nbsp;</th>\n      <th class=\"col_heading level0 col0\" >MAE</th>\n      <th class=\"col_heading level0 col1\" >MSE</th>\n      <th class=\"col_heading level0 col2\" >RMSE</th>\n      <th class=\"col_heading level0 col3\" >R2</th>\n      <th class=\"col_heading level0 col4\" >RMSLE</th>\n      <th class=\"col_heading level0 col5\" >MAPE</th>\n    </tr>\n  </thead>\n  <tbody>\n    <tr>\n      <th id=\"T_8a7a8_level0_row0\" class=\"row_heading level0 row0\" >0</th>\n      <td id=\"T_8a7a8_row0_col0\" class=\"data row0 col0\" >1.4597</td>\n      <td id=\"T_8a7a8_row0_col1\" class=\"data row0 col1\" >5.4135</td>\n      <td id=\"T_8a7a8_row0_col2\" class=\"data row0 col2\" >2.3267</td>\n      <td id=\"T_8a7a8_row0_col3\" class=\"data row0 col3\" >0.9886</td>\n      <td id=\"T_8a7a8_row0_col4\" class=\"data row0 col4\" >0.0810</td>\n      <td id=\"T_8a7a8_row0_col5\" class=\"data row0 col5\" >0.0683</td>\n    </tr>\n    <tr>\n      <th id=\"T_8a7a8_level0_row1\" class=\"row_heading level0 row1\" >1</th>\n      <td id=\"T_8a7a8_row1_col0\" class=\"data row1 col0\" >1.5073</td>\n      <td id=\"T_8a7a8_row1_col1\" class=\"data row1 col1\" >4.4042</td>\n      <td id=\"T_8a7a8_row1_col2\" class=\"data row1 col2\" >2.0986</td>\n      <td id=\"T_8a7a8_row1_col3\" class=\"data row1 col3\" >0.9892</td>\n      <td id=\"T_8a7a8_row1_col4\" class=\"data row1 col4\" >0.1022</td>\n      <td id=\"T_8a7a8_row1_col5\" class=\"data row1 col5\" >0.0869</td>\n    </tr>\n    <tr>\n      <th id=\"T_8a7a8_level0_row2\" class=\"row_heading level0 row2\" >2</th>\n      <td id=\"T_8a7a8_row2_col0\" class=\"data row2 col0\" >1.1208</td>\n      <td id=\"T_8a7a8_row2_col1\" class=\"data row2 col1\" >2.3227</td>\n      <td id=\"T_8a7a8_row2_col2\" class=\"data row2 col2\" >1.5240</td>\n      <td id=\"T_8a7a8_row2_col3\" class=\"data row2 col3\" >0.9919</td>\n      <td id=\"T_8a7a8_row2_col4\" class=\"data row2 col4\" >0.0836</td>\n      <td id=\"T_8a7a8_row2_col5\" class=\"data row2 col5\" >0.0731</td>\n    </tr>\n    <tr>\n      <th id=\"T_8a7a8_level0_row3\" class=\"row_heading level0 row3\" >3</th>\n      <td id=\"T_8a7a8_row3_col0\" class=\"data row3 col0\" >1.8115</td>\n      <td id=\"T_8a7a8_row3_col1\" class=\"data row3 col1\" >7.1185</td>\n      <td id=\"T_8a7a8_row3_col2\" class=\"data row3 col2\" >2.6680</td>\n      <td id=\"T_8a7a8_row3_col3\" class=\"data row3 col3\" >0.9807</td>\n      <td id=\"T_8a7a8_row3_col4\" class=\"data row3 col4\" >0.0887</td>\n      <td id=\"T_8a7a8_row3_col5\" class=\"data row3 col5\" >0.0703</td>\n    </tr>\n    <tr>\n      <th id=\"T_8a7a8_level0_row4\" class=\"row_heading level0 row4\" >4</th>\n      <td id=\"T_8a7a8_row4_col0\" class=\"data row4 col0\" >1.1406</td>\n      <td id=\"T_8a7a8_row4_col1\" class=\"data row4 col1\" >2.5544</td>\n      <td id=\"T_8a7a8_row4_col2\" class=\"data row4 col2\" >1.5982</td>\n      <td id=\"T_8a7a8_row4_col3\" class=\"data row4 col3\" >0.9931</td>\n      <td id=\"T_8a7a8_row4_col4\" class=\"data row4 col4\" >0.0739</td>\n      <td id=\"T_8a7a8_row4_col5\" class=\"data row4 col5\" >0.0655</td>\n    </tr>\n    <tr>\n      <th id=\"T_8a7a8_level0_row5\" class=\"row_heading level0 row5\" >5</th>\n      <td id=\"T_8a7a8_row5_col0\" class=\"data row5 col0\" >1.1023</td>\n      <td id=\"T_8a7a8_row5_col1\" class=\"data row5 col1\" >4.8340</td>\n      <td id=\"T_8a7a8_row5_col2\" class=\"data row5 col2\" >2.1986</td>\n      <td id=\"T_8a7a8_row5_col3\" class=\"data row5 col3\" >0.9855</td>\n      <td id=\"T_8a7a8_row5_col4\" class=\"data row5 col4\" >0.0663</td>\n      <td id=\"T_8a7a8_row5_col5\" class=\"data row5 col5\" >0.0561</td>\n    </tr>\n    <tr>\n      <th id=\"T_8a7a8_level0_row6\" class=\"row_heading level0 row6\" >6</th>\n      <td id=\"T_8a7a8_row6_col0\" class=\"data row6 col0\" >1.5343</td>\n      <td id=\"T_8a7a8_row6_col1\" class=\"data row6 col1\" >4.6213</td>\n      <td id=\"T_8a7a8_row6_col2\" class=\"data row6 col2\" >2.1497</td>\n      <td id=\"T_8a7a8_row6_col3\" class=\"data row6 col3\" >0.9869</td>\n      <td id=\"T_8a7a8_row6_col4\" class=\"data row6 col4\" >0.0903</td>\n      <td id=\"T_8a7a8_row6_col5\" class=\"data row6 col5\" >0.0760</td>\n    </tr>\n    <tr>\n      <th id=\"T_8a7a8_level0_row7\" class=\"row_heading level0 row7\" >7</th>\n      <td id=\"T_8a7a8_row7_col0\" class=\"data row7 col0\" >1.1763</td>\n      <td id=\"T_8a7a8_row7_col1\" class=\"data row7 col1\" >2.9975</td>\n      <td id=\"T_8a7a8_row7_col2\" class=\"data row7 col2\" >1.7313</td>\n      <td id=\"T_8a7a8_row7_col3\" class=\"data row7 col3\" >0.9919</td>\n      <td id=\"T_8a7a8_row7_col4\" class=\"data row7 col4\" >0.0782</td>\n      <td id=\"T_8a7a8_row7_col5\" class=\"data row7 col5\" >0.0663</td>\n    </tr>\n    <tr>\n      <th id=\"T_8a7a8_level0_row8\" class=\"row_heading level0 row8\" >8</th>\n      <td id=\"T_8a7a8_row8_col0\" class=\"data row8 col0\" >1.6278</td>\n      <td id=\"T_8a7a8_row8_col1\" class=\"data row8 col1\" >6.9447</td>\n      <td id=\"T_8a7a8_row8_col2\" class=\"data row8 col2\" >2.6353</td>\n      <td id=\"T_8a7a8_row8_col3\" class=\"data row8 col3\" >0.9831</td>\n      <td id=\"T_8a7a8_row8_col4\" class=\"data row8 col4\" >0.0804</td>\n      <td id=\"T_8a7a8_row8_col5\" class=\"data row8 col5\" >0.0719</td>\n    </tr>\n    <tr>\n      <th id=\"T_8a7a8_level0_row9\" class=\"row_heading level0 row9\" >9</th>\n      <td id=\"T_8a7a8_row9_col0\" class=\"data row9 col0\" >1.1946</td>\n      <td id=\"T_8a7a8_row9_col1\" class=\"data row9 col1\" >3.8648</td>\n      <td id=\"T_8a7a8_row9_col2\" class=\"data row9 col2\" >1.9659</td>\n      <td id=\"T_8a7a8_row9_col3\" class=\"data row9 col3\" >0.9882</td>\n      <td id=\"T_8a7a8_row9_col4\" class=\"data row9 col4\" >0.0719</td>\n      <td id=\"T_8a7a8_row9_col5\" class=\"data row9 col5\" >0.0611</td>\n    </tr>\n    <tr>\n      <th id=\"T_8a7a8_level0_row10\" class=\"row_heading level0 row10\" >Mean</th>\n      <td id=\"T_8a7a8_row10_col0\" class=\"data row10 col0\" >1.3675</td>\n      <td id=\"T_8a7a8_row10_col1\" class=\"data row10 col1\" >4.5076</td>\n      <td id=\"T_8a7a8_row10_col2\" class=\"data row10 col2\" >2.0897</td>\n      <td id=\"T_8a7a8_row10_col3\" class=\"data row10 col3\" >0.9879</td>\n      <td id=\"T_8a7a8_row10_col4\" class=\"data row10 col4\" >0.0817</td>\n      <td id=\"T_8a7a8_row10_col5\" class=\"data row10 col5\" >0.0695</td>\n    </tr>\n    <tr>\n      <th id=\"T_8a7a8_level0_row11\" class=\"row_heading level0 row11\" >SD</th>\n      <td id=\"T_8a7a8_row11_col0\" class=\"data row11 col0\" >0.2387</td>\n      <td id=\"T_8a7a8_row11_col1\" class=\"data row11 col1\" >1.5808</td>\n      <td id=\"T_8a7a8_row11_col2\" class=\"data row11 col2\" >0.3754</td>\n      <td id=\"T_8a7a8_row11_col3\" class=\"data row11 col3\" >0.0038</td>\n      <td id=\"T_8a7a8_row11_col4\" class=\"data row11 col4\" >0.0098</td>\n      <td id=\"T_8a7a8_row11_col5\" class=\"data row11 col5\" >0.0080</td>\n    </tr>\n  </tbody>\n</table>\n"
     },
     "metadata": {}
    },
    {
     "output_type": "execute_result",
     "data": {
      "text/plain": [
       "BaggingRegressor(base_estimator=GradientBoostingRegressor(alpha=0.9,\n",
       "                                                          ccp_alpha=0.0,\n",
       "                                                          criterion='friedman_mse',\n",
       "                                                          init=None,\n",
       "                                                          learning_rate=0.3,\n",
       "                                                          loss='ls',\n",
       "                                                          max_depth=5,\n",
       "                                                          max_features=1.0,\n",
       "                                                          max_leaf_nodes=None,\n",
       "                                                          min_impurity_decrease=0.0005,\n",
       "                                                          min_impurity_split=None,\n",
       "                                                          min_samples_leaf=3,\n",
       "                                                          min_samples_split=7,\n",
       "                                                          min_weight_fraction_leaf=0.0,\n",
       "                                                          n_estimators=160,\n",
       "                                                          n_iter_no_change=None,\n",
       "                                                          presort='deprecated',\n",
       "                                                          random_state=123,\n",
       "                                                          subsample=0.45,\n",
       "                                                          tol=0.0001,\n",
       "                                                          validation_fraction=0.1,\n",
       "                                                          verbose=0,\n",
       "                                                          warm_start=False),\n",
       "                 bootstrap=True, bootstrap_features=False, max_features=1.0,\n",
       "                 max_samples=1.0, n_estimators=10, n_jobs=None, oob_score=False,\n",
       "                 random_state=123, verbose=0, warm_start=False)"
      ]
     },
     "metadata": {},
     "execution_count": 1
    }
   ],
   "source": [
    "# 2021/07/13\n",
    "# execute ML and save ML model\n",
    "\n",
    "import pandas\n",
    "import pycaret\n",
    "\n",
    "filename = \"Data_v2.csv\"\n",
    "\n",
    "csv = pandas.read_csv(filename)\n",
    "csv = csv.dropna(axis=0).reset_index(drop=True)#drop NaN\n",
    "\n",
    "csv = csv.drop('Lmt',axis=1)\n",
    "csv = csv.drop('Lmr',axis=1)\n",
    "csv = csv.drop('Llk',axis=1)\n",
    "csv = csv.drop('Rt',axis=1)\n",
    "#csv = csv.drop('Rr',axis=1)\n",
    "\n",
    "dataset = csv\n",
    "\n",
    "data = dataset.sample(frac=0.7, random_state=786).reset_index(drop=True)\n",
    "data_unseen = dataset.drop(data.index).reset_index(drop=True)\n",
    "\n",
    "from pycaret.regression import *\n",
    "exp_reg101 = setup(data = data, target = 'Rr', session_id=123, silent=True) \n",
    "\n",
    "top3 = compare_models(n_select = 3) \n",
    "\n",
    "tuned_top3 = [tune_model(i) for i in top3]\n",
    "\n",
    "bagged_top3 = [ensemble_model(i) for i in tuned_top3]\n",
    "\n",
    "blender = blend_models(estimator_list = top3)\n",
    "\n",
    "best = automl(optimize = 'RMSE')\n",
    "\n",
    "\n",
    "best"
   ]
  },
  {
   "cell_type": "code",
   "execution_count": 11,
   "metadata": {},
   "outputs": [
    {
     "output_type": "stream",
     "name": "stdout",
     "text": [
      "Transformation Pipeline and Model Successfully Saved\n"
     ]
    },
    {
     "output_type": "execute_result",
     "data": {
      "text/plain": [
       "(Pipeline(memory=None,\n",
       "          steps=[('dtypes',\n",
       "                  DataTypes_Auto_infer(categorical_features=[],\n",
       "                                       display_types=False, features_todrop=[],\n",
       "                                       id_columns=[], ml_usecase='regression',\n",
       "                                       numerical_features=[], target='Rr',\n",
       "                                       time_features=[])),\n",
       "                 ('imputer',\n",
       "                  Simple_Imputer(categorical_strategy='not_available',\n",
       "                                 fill_value_categorical=None,\n",
       "                                 fill_value_numerical=None,\n",
       "                                 numeric_strategy='me...\n",
       "                                                                            min_weight_fraction_leaf=0.0,\n",
       "                                                                            n_estimators=160,\n",
       "                                                                            n_iter_no_change=None,\n",
       "                                                                            presort='deprecated',\n",
       "                                                                            random_state=123,\n",
       "                                                                            subsample=0.45,\n",
       "                                                                            tol=0.0001,\n",
       "                                                                            validation_fraction=0.1,\n",
       "                                                                            verbose=0,\n",
       "                                                                            warm_start=False),\n",
       "                                   bootstrap=True, bootstrap_features=False,\n",
       "                                   max_features=1.0, max_samples=1.0,\n",
       "                                   n_estimators=10, n_jobs=None, oob_score=False,\n",
       "                                   random_state=123, verbose=0,\n",
       "                                   warm_start=False)]],\n",
       "          verbose=False),\n",
       " 'ML_model_test.pkl')"
      ]
     },
     "metadata": {},
     "execution_count": 11
    }
   ],
   "source": [
    "save_model(best, \"ML_model_test\")"
   ]
  },
  {
   "cell_type": "code",
   "execution_count": 13,
   "metadata": {},
   "outputs": [
    {
     "output_type": "stream",
     "name": "stdout",
     "text": [
      "Transformation Pipeline and Model Successfully Loaded\n"
     ]
    },
    {
     "output_type": "error",
     "ename": "ValueError",
     "evalue": "DataFrame constructor not properly called!",
     "traceback": [
      "\u001b[1;31m---------------------------------------------------------------------------\u001b[0m",
      "\u001b[1;31mValueError\u001b[0m                                Traceback (most recent call last)",
      "\u001b[1;32m~\\AppData\\Local\\Temp/ipykernel_1320/1684391597.py\u001b[0m in \u001b[0;36m<module>\u001b[1;34m\u001b[0m\n\u001b[0;32m      1\u001b[0m \u001b[1;32mfrom\u001b[0m \u001b[0mpycaret\u001b[0m\u001b[1;33m.\u001b[0m\u001b[0mregression\u001b[0m \u001b[1;32mimport\u001b[0m \u001b[0mload_model\u001b[0m\u001b[1;33m\u001b[0m\u001b[1;33m\u001b[0m\u001b[0m\n\u001b[0;32m      2\u001b[0m \u001b[1;33m\u001b[0m\u001b[0m\n\u001b[1;32m----> 3\u001b[1;33m \u001b[0mML_model_test\u001b[0m \u001b[1;33m=\u001b[0m \u001b[0mpandas\u001b[0m\u001b[1;33m.\u001b[0m\u001b[0mDataFrame\u001b[0m\u001b[1;33m(\u001b[0m\u001b[0mload_model\u001b[0m\u001b[1;33m(\u001b[0m\u001b[1;34m\"ML_model_test\"\u001b[0m\u001b[1;33m)\u001b[0m\u001b[1;33m)\u001b[0m\u001b[1;33m\u001b[0m\u001b[1;33m\u001b[0m\u001b[0m\n\u001b[0m\u001b[0;32m      4\u001b[0m \u001b[1;33m\u001b[0m\u001b[0m\n\u001b[0;32m      5\u001b[0m \u001b[0mML_model_test\u001b[0m\u001b[1;33m\u001b[0m\u001b[1;33m\u001b[0m\u001b[0m\n",
      "\u001b[1;32m~\\AppData\\Local\\Packages\\PythonSoftwareFoundation.Python.3.9_qbz5n2kfra8p0\\LocalCache\\local-packages\\Python39\\site-packages\\pandas\\core\\frame.py\u001b[0m in \u001b[0;36m__init__\u001b[1;34m(self, data, index, columns, dtype, copy)\u001b[0m\n\u001b[0;32m    728\u001b[0m         \u001b[1;32melse\u001b[0m\u001b[1;33m:\u001b[0m\u001b[1;33m\u001b[0m\u001b[1;33m\u001b[0m\u001b[0m\n\u001b[0;32m    729\u001b[0m             \u001b[1;32mif\u001b[0m \u001b[0mindex\u001b[0m \u001b[1;32mis\u001b[0m \u001b[1;32mNone\u001b[0m \u001b[1;32mor\u001b[0m \u001b[0mcolumns\u001b[0m \u001b[1;32mis\u001b[0m \u001b[1;32mNone\u001b[0m\u001b[1;33m:\u001b[0m\u001b[1;33m\u001b[0m\u001b[1;33m\u001b[0m\u001b[0m\n\u001b[1;32m--> 730\u001b[1;33m                 \u001b[1;32mraise\u001b[0m \u001b[0mValueError\u001b[0m\u001b[1;33m(\u001b[0m\u001b[1;34m\"DataFrame constructor not properly called!\"\u001b[0m\u001b[1;33m)\u001b[0m\u001b[1;33m\u001b[0m\u001b[1;33m\u001b[0m\u001b[0m\n\u001b[0m\u001b[0;32m    731\u001b[0m \u001b[1;33m\u001b[0m\u001b[0m\n\u001b[0;32m    732\u001b[0m             \u001b[1;31m# Argument 1 to \"ensure_index\" has incompatible type \"Collection[Any]\";\u001b[0m\u001b[1;33m\u001b[0m\u001b[1;33m\u001b[0m\u001b[1;33m\u001b[0m\u001b[0m\n",
      "\u001b[1;31mValueError\u001b[0m: DataFrame constructor not properly called!"
     ]
    }
   ],
   "source": [
    "from pycaret.regression import load_model\n",
    "\n",
    "ML_model_test = pandas.DataFrame(load_model(\"ML_model_test\"))\n",
    "\n",
    "ML_model_test\n",
    "\n",
    "parm = [[26,54,74,51]]\n",
    "\n",
    "sol = ML_model_test.predict(parm)"
   ]
  },
  {
   "cell_type": "code",
   "execution_count": null,
   "metadata": {},
   "outputs": [],
   "source": []
  }
 ]
}